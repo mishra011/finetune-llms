{
 "cells": [
  {
   "cell_type": "code",
   "execution_count": 2,
   "metadata": {},
   "outputs": [
    {
     "name": "stdout",
     "output_type": "stream",
     "text": [
      "'NoneType' object has no attribute 'cadam32bit_grad_fp32'\n"
     ]
    },
    {
     "name": "stderr",
     "output_type": "stream",
     "text": [
      "/Users/deepakmishra/.pyenv/versions/3.10.14/envs/fingpt/lib/python3.10/site-packages/bitsandbytes/cextension.py:34: UserWarning: The installed version of bitsandbytes was compiled without GPU support. 8-bit optimizers, 8-bit multiplication, and GPU quantization are unavailable.\n",
      "  warn(\"The installed version of bitsandbytes was compiled without GPU support. \"\n",
      "\n",
      "A module that was compiled using NumPy 1.x cannot be run in\n",
      "NumPy 2.0.0 as it may crash. To support both 1.x and 2.x\n",
      "versions of NumPy, modules must be compiled with NumPy 2.0.\n",
      "Some module may need to rebuild instead e.g. with 'pybind11>=2.12'.\n",
      "\n",
      "If you are a user of the module, the easiest solution will be to\n",
      "downgrade to 'numpy<2' or try to upgrade the affected module.\n",
      "We expect that some modules will need time to support NumPy 2.\n",
      "\n",
      "Traceback (most recent call last):  File \"/Users/deepakmishra/.pyenv/versions/3.10.14/lib/python3.10/runpy.py\", line 196, in _run_module_as_main\n",
      "    return _run_code(code, main_globals, None,\n",
      "  File \"/Users/deepakmishra/.pyenv/versions/3.10.14/lib/python3.10/runpy.py\", line 86, in _run_code\n",
      "    exec(code, run_globals)\n",
      "  File \"/Users/deepakmishra/.pyenv/versions/3.10.14/envs/fingpt/lib/python3.10/site-packages/ipykernel_launcher.py\", line 18, in <module>\n",
      "    app.launch_new_instance()\n",
      "  File \"/Users/deepakmishra/.pyenv/versions/3.10.14/envs/fingpt/lib/python3.10/site-packages/traitlets/config/application.py\", line 1075, in launch_instance\n",
      "    app.start()\n",
      "  File \"/Users/deepakmishra/.pyenv/versions/3.10.14/envs/fingpt/lib/python3.10/site-packages/ipykernel/kernelapp.py\", line 739, in start\n",
      "    self.io_loop.start()\n",
      "  File \"/Users/deepakmishra/.pyenv/versions/3.10.14/envs/fingpt/lib/python3.10/site-packages/tornado/platform/asyncio.py\", line 205, in start\n",
      "    self.asyncio_loop.run_forever()\n",
      "  File \"/Users/deepakmishra/.pyenv/versions/3.10.14/lib/python3.10/asyncio/base_events.py\", line 603, in run_forever\n",
      "    self._run_once()\n",
      "  File \"/Users/deepakmishra/.pyenv/versions/3.10.14/lib/python3.10/asyncio/base_events.py\", line 1909, in _run_once\n",
      "    handle._run()\n",
      "  File \"/Users/deepakmishra/.pyenv/versions/3.10.14/lib/python3.10/asyncio/events.py\", line 80, in _run\n",
      "    self._context.run(self._callback, *self._args)\n",
      "  File \"/Users/deepakmishra/.pyenv/versions/3.10.14/envs/fingpt/lib/python3.10/site-packages/ipykernel/kernelbase.py\", line 545, in dispatch_queue\n",
      "    await self.process_one()\n",
      "  File \"/Users/deepakmishra/.pyenv/versions/3.10.14/envs/fingpt/lib/python3.10/site-packages/ipykernel/kernelbase.py\", line 534, in process_one\n",
      "    await dispatch(*args)\n",
      "  File \"/Users/deepakmishra/.pyenv/versions/3.10.14/envs/fingpt/lib/python3.10/site-packages/ipykernel/kernelbase.py\", line 437, in dispatch_shell\n",
      "    await result\n",
      "  File \"/Users/deepakmishra/.pyenv/versions/3.10.14/envs/fingpt/lib/python3.10/site-packages/ipykernel/ipkernel.py\", line 362, in execute_request\n",
      "    await super().execute_request(stream, ident, parent)\n",
      "  File \"/Users/deepakmishra/.pyenv/versions/3.10.14/envs/fingpt/lib/python3.10/site-packages/ipykernel/kernelbase.py\", line 778, in execute_request\n",
      "    reply_content = await reply_content\n",
      "  File \"/Users/deepakmishra/.pyenv/versions/3.10.14/envs/fingpt/lib/python3.10/site-packages/ipykernel/ipkernel.py\", line 449, in do_execute\n",
      "    res = shell.run_cell(\n",
      "  File \"/Users/deepakmishra/.pyenv/versions/3.10.14/envs/fingpt/lib/python3.10/site-packages/ipykernel/zmqshell.py\", line 549, in run_cell\n",
      "    return super().run_cell(*args, **kwargs)\n",
      "  File \"/Users/deepakmishra/.pyenv/versions/3.10.14/envs/fingpt/lib/python3.10/site-packages/IPython/core/interactiveshell.py\", line 3075, in run_cell\n",
      "    result = self._run_cell(\n",
      "  File \"/Users/deepakmishra/.pyenv/versions/3.10.14/envs/fingpt/lib/python3.10/site-packages/IPython/core/interactiveshell.py\", line 3130, in _run_cell\n",
      "    result = runner(coro)\n",
      "  File \"/Users/deepakmishra/.pyenv/versions/3.10.14/envs/fingpt/lib/python3.10/site-packages/IPython/core/async_helpers.py\", line 128, in _pseudo_sync_runner\n",
      "    coro.send(None)\n",
      "  File \"/Users/deepakmishra/.pyenv/versions/3.10.14/envs/fingpt/lib/python3.10/site-packages/IPython/core/interactiveshell.py\", line 3334, in run_cell_async\n",
      "    has_raised = await self.run_ast_nodes(code_ast.body, cell_name,\n",
      "  File \"/Users/deepakmishra/.pyenv/versions/3.10.14/envs/fingpt/lib/python3.10/site-packages/IPython/core/interactiveshell.py\", line 3517, in run_ast_nodes\n",
      "    if await self.run_code(code, result, async_=asy):\n",
      "  File \"/Users/deepakmishra/.pyenv/versions/3.10.14/envs/fingpt/lib/python3.10/site-packages/IPython/core/interactiveshell.py\", line 3577, in run_code\n",
      "    exec(code_obj, self.user_global_ns, self.user_ns)\n",
      "  File \"/var/folders/rk/ds2_m3hn5r798jxgc634swrh0000gn/T/ipykernel_63981/2361436826.py\", line 3, in <module>\n",
      "    from peft import LoraConfig\n",
      "  File \"/Users/deepakmishra/.pyenv/versions/3.10.14/envs/fingpt/lib/python3.10/site-packages/peft/__init__.py\", line 22, in <module>\n",
      "    from .auto import (\n",
      "  File \"/Users/deepakmishra/.pyenv/versions/3.10.14/envs/fingpt/lib/python3.10/site-packages/peft/auto.py\", line 31, in <module>\n",
      "    from .mapping import MODEL_TYPE_TO_PEFT_MODEL_MAPPING\n",
      "  File \"/Users/deepakmishra/.pyenv/versions/3.10.14/envs/fingpt/lib/python3.10/site-packages/peft/mapping.py\", line 23, in <module>\n",
      "    from .peft_model import (\n",
      "  File \"/Users/deepakmishra/.pyenv/versions/3.10.14/envs/fingpt/lib/python3.10/site-packages/peft/peft_model.py\", line 38, in <module>\n",
      "    from .tuners import (\n",
      "  File \"/Users/deepakmishra/.pyenv/versions/3.10.14/envs/fingpt/lib/python3.10/site-packages/peft/tuners/__init__.py\", line 21, in <module>\n",
      "    from .lora import LoraConfig, LoraModel\n",
      "  File \"/Users/deepakmishra/.pyenv/versions/3.10.14/envs/fingpt/lib/python3.10/site-packages/peft/tuners/lora.py\", line 45, in <module>\n",
      "    import bitsandbytes as bnb\n",
      "  File \"/Users/deepakmishra/.pyenv/versions/3.10.14/envs/fingpt/lib/python3.10/site-packages/bitsandbytes/__init__.py\", line 6, in <module>\n",
      "    from . import cuda_setup, utils, research\n",
      "  File \"/Users/deepakmishra/.pyenv/versions/3.10.14/envs/fingpt/lib/python3.10/site-packages/bitsandbytes/research/__init__.py\", line 1, in <module>\n",
      "    from . import nn\n",
      "  File \"/Users/deepakmishra/.pyenv/versions/3.10.14/envs/fingpt/lib/python3.10/site-packages/bitsandbytes/research/nn/__init__.py\", line 1, in <module>\n",
      "    from .modules import LinearFP8Mixed, LinearFP8Global\n",
      "  File \"/Users/deepakmishra/.pyenv/versions/3.10.14/envs/fingpt/lib/python3.10/site-packages/bitsandbytes/research/nn/modules.py\", line 8, in <module>\n",
      "    from bitsandbytes.optim import GlobalOptimManager\n",
      "  File \"/Users/deepakmishra/.pyenv/versions/3.10.14/envs/fingpt/lib/python3.10/site-packages/bitsandbytes/optim/__init__.py\", line 8, in <module>\n",
      "    from .adagrad import Adagrad, Adagrad8bit, Adagrad32bit\n",
      "  File \"/Users/deepakmishra/.pyenv/versions/3.10.14/envs/fingpt/lib/python3.10/site-packages/bitsandbytes/optim/adagrad.py\", line 5, in <module>\n",
      "    from bitsandbytes.optim.optimizer import Optimizer1State\n",
      "  File \"/Users/deepakmishra/.pyenv/versions/3.10.14/envs/fingpt/lib/python3.10/site-packages/bitsandbytes/optim/optimizer.py\", line 12, in <module>\n",
      "    import bitsandbytes.functional as F\n",
      "  File \"/Users/deepakmishra/.pyenv/versions/3.10.14/envs/fingpt/lib/python3.10/site-packages/bitsandbytes/functional.py\", line 169, in <module>\n",
      "    def get_paged(*shape, dtype=torch.float32, device=torch.device('cuda', index=0)):\n",
      "/Users/deepakmishra/.pyenv/versions/3.10.14/envs/fingpt/lib/python3.10/site-packages/bitsandbytes/functional.py:169: UserWarning: Failed to initialize NumPy: _ARRAY_API not found (Triggered internally at /Users/runner/work/pytorch/pytorch/pytorch/torch/csrc/utils/tensor_numpy.cpp:84.)\n",
      "  def get_paged(*shape, dtype=torch.float32, device=torch.device('cuda', index=0)):\n"
     ]
    }
   ],
   "source": [
    "import torch\n",
    "from transformers import AutoTokenizer, AutoModelForCausalLM, BitsAndBytesConfig\n",
    "from peft import LoraConfig\n",
    "\n",
    "modelID = \"tiiuae/falcon-7b\""
   ]
  },
  {
   "cell_type": "code",
   "execution_count": 3,
   "metadata": {},
   "outputs": [
    {
     "name": "stderr",
     "output_type": "stream",
     "text": [
      "Repo card metadata block was not found. Setting CardData to empty.\n"
     ]
    }
   ],
   "source": [
    "from datasets import load_dataset\n",
    "dataset = load_dataset(\"timdettmers/openassistant-guanaco\", split=\"train\")\n"
   ]
  },
  {
   "cell_type": "code",
   "execution_count": 5,
   "metadata": {},
   "outputs": [
    {
     "data": {
      "text/plain": [
       "{'text': '### Human: Can you write a short introduction about the relevance of the term \"monopsony\" in economics? Please use examples related to potential monopsonies in the labour market and cite relevant research.### Assistant: \"Monopsony\" refers to a market structure where there is only one buyer for a particular good or service. In economics, this term is particularly relevant in the labor market, where a monopsony employer has significant power over the wages and working conditions of their employees. The presence of a monopsony can result in lower wages and reduced employment opportunities for workers, as the employer has little incentive to increase wages or provide better working conditions.\\n\\nRecent research has identified potential monopsonies in industries such as retail and fast food, where a few large companies control a significant portion of the market (Bivens & Mishel, 2013). In these industries, workers often face low wages, limited benefits, and reduced bargaining power, leading to a situation where they are dependent on the employer for their livelihood. This dependence can result in further suppression of wages and a decline in working conditions.\\n\\nOverall, the concept of monopsony is essential to understanding the dynamics of labor markets and the impact of market power on workers. Further research is needed to understand the extent and impact of monopsonies on the economy and to develop policies to address this issue.\\n\\nReferences:\\nBivens, J., & Mishel, L. (2013). The Pay of Corporate Executives and Financial Professionals as Evidence of Rents in Top 1 Percent Incomes. Journal of Economic Perspectives, 27(3), 57-78.### Human: Now explain it to a dog'}"
      ]
     },
     "execution_count": 5,
     "metadata": {},
     "output_type": "execute_result"
    }
   ],
   "source": [
    "dataset[0]"
   ]
  },
  {
   "cell_type": "code",
   "execution_count": 6,
   "metadata": {},
   "outputs": [
    {
     "name": "stderr",
     "output_type": "stream",
     "text": [
      "/Users/deepakmishra/.pyenv/versions/3.10.14/envs/fingpt/lib/python3.10/site-packages/huggingface_hub/file_download.py:1132: FutureWarning: `resume_download` is deprecated and will be removed in version 1.0.0. Downloads always resume when possible. If you want to force a new download, use `force_download=True`.\n",
      "  warnings.warn(\n",
      "Downloading shards: 100%|██████████| 2/2 [10:31<00:00, 315.67s/it]\n",
      "Loading checkpoint shards: 100%|██████████| 2/2 [01:21<00:00, 40.81s/it]\n"
     ]
    }
   ],
   "source": [
    "from transformers import BitsAndBytesConfig\n",
    "quantizationConfig = BitsAndBytesConfig(\n",
    "    #load_in_4bit=True,\n",
    "    #bnb_4bit_compute_dtype=torch.float16,\n",
    "    #bnb_4bit_quant_type=\"nf4\"\n",
    ")\n",
    "\n",
    "model = AutoModelForCausalLM.from_pretrained(modelID, quantization_config=quantizationConfig)"
   ]
  },
  {
   "cell_type": "code",
   "execution_count": 7,
   "metadata": {},
   "outputs": [
    {
     "data": {
      "text/plain": [
       "1"
      ]
     },
     "execution_count": 7,
     "metadata": {},
     "output_type": "execute_result"
    }
   ],
   "source": [
    "tokenizer = AutoTokenizer.from_pretrained(modelID)\n",
    "tokenizer.add_special_tokens({'pad_token': '<PAD>'})"
   ]
  },
  {
   "cell_type": "code",
   "execution_count": 14,
   "metadata": {},
   "outputs": [
    {
     "name": "stdout",
     "output_type": "stream",
     "text": [
      "Requirement already satisfied: trl in /Users/deepakmishra/.pyenv/versions/3.10.14/envs/fingpt/lib/python3.10/site-packages (0.9.4)\n",
      "Requirement already satisfied: torch>=1.4.0 in /Users/deepakmishra/.pyenv/versions/3.10.14/envs/fingpt/lib/python3.10/site-packages (from trl) (2.0.1)\n",
      "Requirement already satisfied: transformers>=4.31.0 in /Users/deepakmishra/.pyenv/versions/3.10.14/envs/fingpt/lib/python3.10/site-packages (from trl) (4.32.0)\n",
      "Requirement already satisfied: numpy>=1.18.2 in /Users/deepakmishra/.pyenv/versions/3.10.14/envs/fingpt/lib/python3.10/site-packages (from trl) (2.0.0)\n",
      "Requirement already satisfied: accelerate in /Users/deepakmishra/.pyenv/versions/3.10.14/envs/fingpt/lib/python3.10/site-packages (from trl) (0.31.0)\n",
      "Requirement already satisfied: datasets in /Users/deepakmishra/.pyenv/versions/3.10.14/envs/fingpt/lib/python3.10/site-packages (from trl) (2.20.0)\n",
      "Requirement already satisfied: tyro>=0.5.11 in /Users/deepakmishra/.pyenv/versions/3.10.14/envs/fingpt/lib/python3.10/site-packages (from trl) (0.8.5)\n",
      "Requirement already satisfied: filelock in /Users/deepakmishra/.pyenv/versions/3.10.14/envs/fingpt/lib/python3.10/site-packages (from torch>=1.4.0->trl) (3.15.4)\n",
      "Requirement already satisfied: typing-extensions in /Users/deepakmishra/.pyenv/versions/3.10.14/envs/fingpt/lib/python3.10/site-packages (from torch>=1.4.0->trl) (4.12.2)\n",
      "Requirement already satisfied: sympy in /Users/deepakmishra/.pyenv/versions/3.10.14/envs/fingpt/lib/python3.10/site-packages (from torch>=1.4.0->trl) (1.12.1)\n",
      "Requirement already satisfied: networkx in /Users/deepakmishra/.pyenv/versions/3.10.14/envs/fingpt/lib/python3.10/site-packages (from torch>=1.4.0->trl) (3.3)\n",
      "Requirement already satisfied: jinja2 in /Users/deepakmishra/.pyenv/versions/3.10.14/envs/fingpt/lib/python3.10/site-packages (from torch>=1.4.0->trl) (3.1.4)\n",
      "Requirement already satisfied: huggingface-hub<1.0,>=0.15.1 in /Users/deepakmishra/.pyenv/versions/3.10.14/envs/fingpt/lib/python3.10/site-packages (from transformers>=4.31.0->trl) (0.23.4)\n",
      "Requirement already satisfied: packaging>=20.0 in /Users/deepakmishra/.pyenv/versions/3.10.14/envs/fingpt/lib/python3.10/site-packages (from transformers>=4.31.0->trl) (24.1)\n",
      "Requirement already satisfied: pyyaml>=5.1 in /Users/deepakmishra/.pyenv/versions/3.10.14/envs/fingpt/lib/python3.10/site-packages (from transformers>=4.31.0->trl) (6.0.1)\n",
      "Requirement already satisfied: regex!=2019.12.17 in /Users/deepakmishra/.pyenv/versions/3.10.14/envs/fingpt/lib/python3.10/site-packages (from transformers>=4.31.0->trl) (2024.5.15)\n",
      "Requirement already satisfied: requests in /Users/deepakmishra/.pyenv/versions/3.10.14/envs/fingpt/lib/python3.10/site-packages (from transformers>=4.31.0->trl) (2.32.3)\n",
      "Requirement already satisfied: tokenizers!=0.11.3,<0.14,>=0.11.1 in /Users/deepakmishra/.pyenv/versions/3.10.14/envs/fingpt/lib/python3.10/site-packages (from transformers>=4.31.0->trl) (0.13.3)\n",
      "Requirement already satisfied: safetensors>=0.3.1 in /Users/deepakmishra/.pyenv/versions/3.10.14/envs/fingpt/lib/python3.10/site-packages (from transformers>=4.31.0->trl) (0.4.3)\n",
      "Requirement already satisfied: tqdm>=4.27 in /Users/deepakmishra/.pyenv/versions/3.10.14/envs/fingpt/lib/python3.10/site-packages (from transformers>=4.31.0->trl) (4.66.4)\n",
      "Requirement already satisfied: docstring-parser>=0.16 in /Users/deepakmishra/.pyenv/versions/3.10.14/envs/fingpt/lib/python3.10/site-packages (from tyro>=0.5.11->trl) (0.16)\n",
      "Requirement already satisfied: rich>=11.1.0 in /Users/deepakmishra/.pyenv/versions/3.10.14/envs/fingpt/lib/python3.10/site-packages (from tyro>=0.5.11->trl) (13.7.1)\n",
      "Requirement already satisfied: shtab>=1.5.6 in /Users/deepakmishra/.pyenv/versions/3.10.14/envs/fingpt/lib/python3.10/site-packages (from tyro>=0.5.11->trl) (1.7.1)\n",
      "Requirement already satisfied: psutil in /Users/deepakmishra/.pyenv/versions/3.10.14/envs/fingpt/lib/python3.10/site-packages (from accelerate->trl) (6.0.0)\n",
      "Requirement already satisfied: pyarrow>=15.0.0 in /Users/deepakmishra/.pyenv/versions/3.10.14/envs/fingpt/lib/python3.10/site-packages (from datasets->trl) (16.1.0)\n",
      "Requirement already satisfied: pyarrow-hotfix in /Users/deepakmishra/.pyenv/versions/3.10.14/envs/fingpt/lib/python3.10/site-packages (from datasets->trl) (0.6)\n",
      "Requirement already satisfied: dill<0.3.9,>=0.3.0 in /Users/deepakmishra/.pyenv/versions/3.10.14/envs/fingpt/lib/python3.10/site-packages (from datasets->trl) (0.3.8)\n",
      "Requirement already satisfied: pandas in /Users/deepakmishra/.pyenv/versions/3.10.14/envs/fingpt/lib/python3.10/site-packages (from datasets->trl) (2.2.2)\n",
      "Requirement already satisfied: xxhash in /Users/deepakmishra/.pyenv/versions/3.10.14/envs/fingpt/lib/python3.10/site-packages (from datasets->trl) (3.4.1)\n",
      "Requirement already satisfied: multiprocess in /Users/deepakmishra/.pyenv/versions/3.10.14/envs/fingpt/lib/python3.10/site-packages (from datasets->trl) (0.70.16)\n",
      "Requirement already satisfied: fsspec<=2024.5.0,>=2023.1.0 in /Users/deepakmishra/.pyenv/versions/3.10.14/envs/fingpt/lib/python3.10/site-packages (from fsspec[http]<=2024.5.0,>=2023.1.0->datasets->trl) (2024.5.0)\n",
      "Requirement already satisfied: aiohttp in /Users/deepakmishra/.pyenv/versions/3.10.14/envs/fingpt/lib/python3.10/site-packages (from datasets->trl) (3.9.5)\n",
      "Requirement already satisfied: aiosignal>=1.1.2 in /Users/deepakmishra/.pyenv/versions/3.10.14/envs/fingpt/lib/python3.10/site-packages (from aiohttp->datasets->trl) (1.3.1)\n",
      "Requirement already satisfied: attrs>=17.3.0 in /Users/deepakmishra/.pyenv/versions/3.10.14/envs/fingpt/lib/python3.10/site-packages (from aiohttp->datasets->trl) (23.2.0)\n",
      "Requirement already satisfied: frozenlist>=1.1.1 in /Users/deepakmishra/.pyenv/versions/3.10.14/envs/fingpt/lib/python3.10/site-packages (from aiohttp->datasets->trl) (1.4.1)\n",
      "Requirement already satisfied: multidict<7.0,>=4.5 in /Users/deepakmishra/.pyenv/versions/3.10.14/envs/fingpt/lib/python3.10/site-packages (from aiohttp->datasets->trl) (6.0.5)\n",
      "Requirement already satisfied: yarl<2.0,>=1.0 in /Users/deepakmishra/.pyenv/versions/3.10.14/envs/fingpt/lib/python3.10/site-packages (from aiohttp->datasets->trl) (1.9.4)\n",
      "Requirement already satisfied: async-timeout<5.0,>=4.0 in /Users/deepakmishra/.pyenv/versions/3.10.14/envs/fingpt/lib/python3.10/site-packages (from aiohttp->datasets->trl) (4.0.3)\n",
      "Requirement already satisfied: charset-normalizer<4,>=2 in /Users/deepakmishra/.pyenv/versions/3.10.14/envs/fingpt/lib/python3.10/site-packages (from requests->transformers>=4.31.0->trl) (3.3.2)\n",
      "Requirement already satisfied: idna<4,>=2.5 in /Users/deepakmishra/.pyenv/versions/3.10.14/envs/fingpt/lib/python3.10/site-packages (from requests->transformers>=4.31.0->trl) (3.7)\n",
      "Requirement already satisfied: urllib3<3,>=1.21.1 in /Users/deepakmishra/.pyenv/versions/3.10.14/envs/fingpt/lib/python3.10/site-packages (from requests->transformers>=4.31.0->trl) (2.2.2)\n",
      "Requirement already satisfied: certifi>=2017.4.17 in /Users/deepakmishra/.pyenv/versions/3.10.14/envs/fingpt/lib/python3.10/site-packages (from requests->transformers>=4.31.0->trl) (2024.6.2)\n",
      "Requirement already satisfied: markdown-it-py>=2.2.0 in /Users/deepakmishra/.pyenv/versions/3.10.14/envs/fingpt/lib/python3.10/site-packages (from rich>=11.1.0->tyro>=0.5.11->trl) (3.0.0)\n",
      "Requirement already satisfied: pygments<3.0.0,>=2.13.0 in /Users/deepakmishra/.pyenv/versions/3.10.14/envs/fingpt/lib/python3.10/site-packages (from rich>=11.1.0->tyro>=0.5.11->trl) (2.18.0)\n",
      "Requirement already satisfied: MarkupSafe>=2.0 in /Users/deepakmishra/.pyenv/versions/3.10.14/envs/fingpt/lib/python3.10/site-packages (from jinja2->torch>=1.4.0->trl) (2.1.5)\n",
      "Requirement already satisfied: python-dateutil>=2.8.2 in /Users/deepakmishra/.pyenv/versions/3.10.14/envs/fingpt/lib/python3.10/site-packages (from pandas->datasets->trl) (2.9.0.post0)\n",
      "Requirement already satisfied: pytz>=2020.1 in /Users/deepakmishra/.pyenv/versions/3.10.14/envs/fingpt/lib/python3.10/site-packages (from pandas->datasets->trl) (2024.1)\n",
      "Requirement already satisfied: tzdata>=2022.7 in /Users/deepakmishra/.pyenv/versions/3.10.14/envs/fingpt/lib/python3.10/site-packages (from pandas->datasets->trl) (2024.1)\n",
      "Requirement already satisfied: mpmath<1.4.0,>=1.1.0 in /Users/deepakmishra/.pyenv/versions/3.10.14/envs/fingpt/lib/python3.10/site-packages (from sympy->torch>=1.4.0->trl) (1.3.0)\n",
      "Requirement already satisfied: mdurl~=0.1 in /Users/deepakmishra/.pyenv/versions/3.10.14/envs/fingpt/lib/python3.10/site-packages (from markdown-it-py>=2.2.0->rich>=11.1.0->tyro>=0.5.11->trl) (0.1.2)\n",
      "Requirement already satisfied: six>=1.5 in /Users/deepakmishra/.pyenv/versions/3.10.14/envs/fingpt/lib/python3.10/site-packages (from python-dateutil>=2.8.2->pandas->datasets->trl) (1.16.0)\n"
     ]
    }
   ],
   "source": [
    "!pip install trl"
   ]
  },
  {
   "cell_type": "code",
   "execution_count": 21,
   "metadata": {},
   "outputs": [
    {
     "name": "stderr",
     "output_type": "stream",
     "text": [
      "Using pad_token, but it is not set yet.\n",
      "/Users/deepakmishra/.pyenv/versions/3.10.14/envs/fingpt/lib/python3.10/site-packages/trl/trainer/sft_trainer.py:278: UserWarning: You didn't pass a `max_seq_length` argument to the SFTTrainer, this will default to 1024\n",
      "  warnings.warn(\n"
     ]
    },
    {
     "ename": "FrozenInstanceError",
     "evalue": "cannot assign to field dataset_kwargs",
     "output_type": "error",
     "traceback": [
      "\u001b[0;31m---------------------------------------------------------------------------\u001b[0m",
      "\u001b[0;31mFrozenInstanceError\u001b[0m                       Traceback (most recent call last)",
      "Cell \u001b[0;32mIn[21], line 21\u001b[0m\n\u001b[1;32m      5\u001b[0m sft_config \u001b[38;5;241m=\u001b[39m SFTConfig(\n\u001b[1;32m      6\u001b[0m     \u001b[38;5;66;03m# dataset_text_field=\"text\",  # Specify the field containing your text data\u001b[39;00m\n\u001b[1;32m      7\u001b[0m     \u001b[38;5;66;03m# max_seq_length=512,         # Set the maximum sequence length\u001b[39;00m\n\u001b[1;32m      8\u001b[0m     output_dir\u001b[38;5;241m=\u001b[39m\u001b[38;5;124m\"\u001b[39m\u001b[38;5;124m./tmp\u001b[39m\u001b[38;5;124m\"\u001b[39m,          \u001b[38;5;66;03m# Specify the output directory for model checkpoints\u001b[39;00m\n\u001b[1;32m      9\u001b[0m     \u001b[38;5;66;03m#tokenizer = tokenizer\u001b[39;00m\n\u001b[1;32m     10\u001b[0m )\n\u001b[1;32m     12\u001b[0m \u001b[38;5;66;03m# trainer = SFTTrainer(\u001b[39;00m\n\u001b[1;32m     13\u001b[0m \u001b[38;5;66;03m#         model=model,\u001b[39;00m\n\u001b[1;32m     14\u001b[0m \u001b[38;5;66;03m#         train_dataset=dataset,\u001b[39;00m\n\u001b[0;32m   (...)\u001b[0m\n\u001b[1;32m     18\u001b[0m \u001b[38;5;66;03m#         #packing=True,\u001b[39;00m\n\u001b[1;32m     19\u001b[0m \u001b[38;5;66;03m#     )\u001b[39;00m\n\u001b[0;32m---> 21\u001b[0m trainer \u001b[38;5;241m=\u001b[39m \u001b[43mSFTTrainer\u001b[49m\u001b[43m(\u001b[49m\n\u001b[1;32m     22\u001b[0m \u001b[43m        \u001b[49m\u001b[43mmodel\u001b[49m\u001b[38;5;241;43m=\u001b[39;49m\u001b[43mmodel\u001b[49m\u001b[43m,\u001b[49m\n\u001b[1;32m     23\u001b[0m \u001b[43m        \u001b[49m\u001b[43mtrain_dataset\u001b[49m\u001b[38;5;241;43m=\u001b[39;49m\u001b[43mdataset\u001b[49m\u001b[43m,\u001b[49m\n\u001b[1;32m     24\u001b[0m \u001b[43m        \u001b[49m\u001b[43margs\u001b[49m\u001b[38;5;241;43m=\u001b[39;49m\u001b[43msft_config\u001b[49m\n\u001b[1;32m     25\u001b[0m \u001b[43m    \u001b[49m\u001b[43m)\u001b[49m\n",
      "File \u001b[0;32m~/.pyenv/versions/3.10.14/envs/fingpt/lib/python3.10/site-packages/huggingface_hub/utils/_deprecation.py:101\u001b[0m, in \u001b[0;36m_deprecate_arguments.<locals>._inner_deprecate_positional_args.<locals>.inner_f\u001b[0;34m(*args, **kwargs)\u001b[0m\n\u001b[1;32m     99\u001b[0m         message \u001b[38;5;241m+\u001b[39m\u001b[38;5;241m=\u001b[39m \u001b[38;5;124m\"\u001b[39m\u001b[38;5;130;01m\\n\u001b[39;00m\u001b[38;5;130;01m\\n\u001b[39;00m\u001b[38;5;124m\"\u001b[39m \u001b[38;5;241m+\u001b[39m custom_message\n\u001b[1;32m    100\u001b[0m     warnings\u001b[38;5;241m.\u001b[39mwarn(message, \u001b[38;5;167;01mFutureWarning\u001b[39;00m)\n\u001b[0;32m--> 101\u001b[0m \u001b[38;5;28;01mreturn\u001b[39;00m \u001b[43mf\u001b[49m\u001b[43m(\u001b[49m\u001b[38;5;241;43m*\u001b[39;49m\u001b[43margs\u001b[49m\u001b[43m,\u001b[49m\u001b[43m \u001b[49m\u001b[38;5;241;43m*\u001b[39;49m\u001b[38;5;241;43m*\u001b[39;49m\u001b[43mkwargs\u001b[49m\u001b[43m)\u001b[49m\n",
      "File \u001b[0;32m~/.pyenv/versions/3.10.14/envs/fingpt/lib/python3.10/site-packages/trl/trainer/sft_trainer.py:360\u001b[0m, in \u001b[0;36mSFTTrainer.__init__\u001b[0;34m(self, model, args, data_collator, train_dataset, eval_dataset, tokenizer, model_init, compute_metrics, callbacks, optimizers, preprocess_logits_for_metrics, peft_config, dataset_text_field, packing, formatting_func, max_seq_length, infinite, num_of_sequences, chars_per_token, dataset_num_proc, dataset_batch_size, neftune_noise_alpha, model_init_kwargs, dataset_kwargs, eval_packing)\u001b[0m\n\u001b[1;32m    358\u001b[0m     args\u001b[38;5;241m.\u001b[39mdataset_kwargs \u001b[38;5;241m=\u001b[39m dataset_kwargs\n\u001b[1;32m    359\u001b[0m \u001b[38;5;28;01mif\u001b[39;00m args\u001b[38;5;241m.\u001b[39mdataset_kwargs \u001b[38;5;129;01mis\u001b[39;00m \u001b[38;5;28;01mNone\u001b[39;00m:\n\u001b[0;32m--> 360\u001b[0m     \u001b[43margs\u001b[49m\u001b[38;5;241;43m.\u001b[39;49m\u001b[43mdataset_kwargs\u001b[49m \u001b[38;5;241m=\u001b[39m {}\n\u001b[1;32m    361\u001b[0m \u001b[38;5;28;01mif\u001b[39;00m train_dataset \u001b[38;5;129;01mis\u001b[39;00m \u001b[38;5;129;01mnot\u001b[39;00m \u001b[38;5;28;01mNone\u001b[39;00m:\n\u001b[1;32m    362\u001b[0m     train_dataset \u001b[38;5;241m=\u001b[39m \u001b[38;5;28mself\u001b[39m\u001b[38;5;241m.\u001b[39m_prepare_dataset(\n\u001b[1;32m    363\u001b[0m         train_dataset,\n\u001b[1;32m    364\u001b[0m         tokenizer,\n\u001b[0;32m   (...)\u001b[0m\n\u001b[1;32m    372\u001b[0m         \u001b[38;5;241m*\u001b[39m\u001b[38;5;241m*\u001b[39margs\u001b[38;5;241m.\u001b[39mdataset_kwargs,\n\u001b[1;32m    373\u001b[0m     )\n",
      "File \u001b[0;32m~/.pyenv/versions/3.10.14/envs/fingpt/lib/python3.10/site-packages/transformers/training_args.py:1712\u001b[0m, in \u001b[0;36mTrainingArguments.__setattr__\u001b[0;34m(self, name, value)\u001b[0m\n\u001b[1;32m   1709\u001b[0m \u001b[38;5;28;01mdef\u001b[39;00m \u001b[38;5;21m__setattr__\u001b[39m(\u001b[38;5;28mself\u001b[39m, name, value):\n\u001b[1;32m   1710\u001b[0m     \u001b[38;5;66;03m# Once fully through the `__post_init__`, `TrainingArguments` are immutable\u001b[39;00m\n\u001b[1;32m   1711\u001b[0m     \u001b[38;5;28;01mif\u001b[39;00m \u001b[38;5;129;01mnot\u001b[39;00m name\u001b[38;5;241m.\u001b[39mstartswith(\u001b[38;5;124m\"\u001b[39m\u001b[38;5;124m_\u001b[39m\u001b[38;5;124m\"\u001b[39m) \u001b[38;5;129;01mand\u001b[39;00m \u001b[38;5;28mgetattr\u001b[39m(\u001b[38;5;28mself\u001b[39m, \u001b[38;5;124m\"\u001b[39m\u001b[38;5;124m_frozen\u001b[39m\u001b[38;5;124m\"\u001b[39m, \u001b[38;5;28;01mFalse\u001b[39;00m):\n\u001b[0;32m-> 1712\u001b[0m         \u001b[38;5;28;01mraise\u001b[39;00m FrozenInstanceError(\u001b[38;5;124mf\u001b[39m\u001b[38;5;124m\"\u001b[39m\u001b[38;5;124mcannot assign to field \u001b[39m\u001b[38;5;132;01m{\u001b[39;00mname\u001b[38;5;132;01m}\u001b[39;00m\u001b[38;5;124m\"\u001b[39m)\n\u001b[1;32m   1713\u001b[0m     \u001b[38;5;28;01melse\u001b[39;00m:\n\u001b[1;32m   1714\u001b[0m         \u001b[38;5;28msuper\u001b[39m()\u001b[38;5;241m.\u001b[39m\u001b[38;5;21m__setattr__\u001b[39m(name, value)\n",
      "\u001b[0;31mFrozenInstanceError\u001b[0m: cannot assign to field dataset_kwargs"
     ]
    }
   ],
   "source": [
    "#from transformers import SFTTrainer\n",
    "from trl import SFTConfig, SFTTrainer\n",
    "\n",
    "# Define your SFT configuration\n",
    "sft_config = SFTConfig(\n",
    "    # dataset_text_field=\"text\",  # Specify the field containing your text data\n",
    "    # max_seq_length=512,         # Set the maximum sequence length\n",
    "    output_dir=\"./tmp\",          # Specify the output directory for model checkpoints\n",
    "    #tokenizer = tokenizer\n",
    ")\n",
    "\n",
    "# trainer = SFTTrainer(\n",
    "#         model=model,\n",
    "#         train_dataset=dataset,\n",
    "#         #dataset_text_field=\"text\",\n",
    "#         #max_seq_length=512,\n",
    "#         tokenizer=tokenizer,\n",
    "#         #packing=True,\n",
    "#     )\n",
    "\n",
    "trainer = SFTTrainer(\n",
    "        model=model,\n",
    "        train_dataset=dataset,\n",
    "        args=sft_config\n",
    "    )"
   ]
  },
  {
   "cell_type": "code",
   "execution_count": null,
   "metadata": {},
   "outputs": [],
   "source": []
  }
 ],
 "metadata": {
  "kernelspec": {
   "display_name": "fingpt",
   "language": "python",
   "name": "python3"
  },
  "language_info": {
   "codemirror_mode": {
    "name": "ipython",
    "version": 3
   },
   "file_extension": ".py",
   "mimetype": "text/x-python",
   "name": "python",
   "nbconvert_exporter": "python",
   "pygments_lexer": "ipython3",
   "version": "3.10.14"
  }
 },
 "nbformat": 4,
 "nbformat_minor": 2
}
